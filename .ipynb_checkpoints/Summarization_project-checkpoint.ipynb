{
 "cells": [
  {
   "cell_type": "code",
   "execution_count": 1,
   "id": "be74222c",
   "metadata": {},
   "outputs": [],
   "source": [
    "import os\n",
    "import re\n",
    "import tensorflow as tf\n",
    "from tensorflow.keras.layers import LSTM, Embedding, Dense, Attention\n",
    "from tensorflow.keras.models import Model\n",
    "from sklearn.model_selection import train_test_split\n"
   ]
  },
  {
   "cell_type": "code",
   "execution_count": 21,
   "id": "2fc54881",
   "metadata": {},
   "outputs": [],
   "source": [
    "# Load and preprocess data\n",
    "data_dir = r\"C:\\Users\\HP\\Suvidha ML internship\\cnn_stories_tokenized\"\n",
    "def load_data(data_dir):\n",
    "   \n",
    "    texts = []\n",
    "    summaries = []\n",
    "    for filename in os.listdir(data_dir):\n",
    "        if filename.endswith('.story'):\n",
    "            with open(os.path.join(data_dir, filename), 'r', encoding= 'utf-8') as f:\n",
    "                content = f.read()\n",
    "                parts = content.split('@highlight')  # Split using the delimiter\n",
    "                text = parts[0]  # Extract text\n",
    "                \n",
    "                # Join highlights into a single summary, separated by newlines\n",
    "                summary = '\\n'.join(h.strip() for h in parts[1:])\n",
    "\n",
    "                texts.append(text)\n",
    "                summaries.append(summary)  # Append the combined summary\n",
    "\n",
    "                \n",
    "    return texts, summaries\n",
    "\n",
    "def preprocess_data(texts, summaries):\n",
    "      # Tokenize, clean, lowercase, etc.\n",
    "    processed_texts = [re.findall(r'\\w+', text.lower()) for text in texts]\n",
    "    processed_summaries = [re.findall(r'\\w+', summary.lower()) for summary in summaries]\n",
    "    return processed_texts, processed_summaries\n",
    "\n",
    "def create_vocabulary(texts):\n",
    "\n",
    "    vocabulary = set()  # Use a set for efficient collection of unique words\n",
    "    for text in texts:\n",
    "        vocabulary.update(text)  # Add unique words from each text to the vocabulary\n",
    "\n",
    "    return vocabulary\n",
    "\n",
    "\n",
    "def split_data(texts, summaries):\n",
    "    \"\"\"\n",
    "    Splits preprocessed text and summary data into training, validation, and test sets.\n",
    "\n",
    "    Args:\n",
    "        texts: A list of preprocessed text documents.\n",
    "        summaries: A list of corresponding preprocessed summaries.\n",
    "\n",
    "    Returns:\n",
    "        A tuple containing six lists:\n",
    "        - train_texts: Preprocessed texts for training.\n",
    "        - train_summaries: Preprocessed summaries for training.\n",
    "        - val_texts: Preprocessed texts for validation.\n",
    "        - val_summaries: Preprocessed summaries for validation.\n",
    "        - test_texts: Preprocessed texts for testing.\n",
    "        - test_summaries: Preprocessed summaries for testing.\n",
    "    \"\"\"\n",
    "\n",
    "    # Split into training and test sets (80/20 split)\n",
    "    train_texts, test_texts, train_summaries, test_summaries = train_test_split(\n",
    "        texts, summaries, test_size=0.2, random_state=42\n",
    "    )\n",
    "\n",
    "    # Further split the training set into training and validation sets (80/20 split)\n",
    "    train_texts, val_texts, train_summaries, val_summaries = train_test_split(\n",
    "        train_texts, train_summaries, test_size=0.2, random_state=42\n",
    "    )\n",
    "\n",
    "    return train_texts, train_summaries, val_texts, val_summaries, test_texts, test_summaries\n",
    "\n",
    "\n",
    "\n"
   ]
  },
  {
   "cell_type": "code",
   "execution_count": 3,
   "id": "c858a68e",
   "metadata": {},
   "outputs": [],
   "source": [
    "\n",
    "texts, summaries = load_data(data_dir)"
   ]
  },
  {
   "cell_type": "code",
   "execution_count": 4,
   "id": "ca2a8ffc",
   "metadata": {},
   "outputs": [
    {
     "data": {
      "text/plain": [
       "92579"
      ]
     },
     "execution_count": 4,
     "metadata": {},
     "output_type": "execute_result"
    }
   ],
   "source": [
    "len(summaries)"
   ]
  },
  {
   "cell_type": "code",
   "execution_count": 5,
   "id": "603e94a4",
   "metadata": {},
   "outputs": [
    {
     "data": {
      "text/plain": [
       "92579"
      ]
     },
     "execution_count": 5,
     "metadata": {},
     "output_type": "execute_result"
    }
   ],
   "source": [
    "len(texts)"
   ]
  },
  {
   "cell_type": "code",
   "execution_count": 6,
   "id": "df294315",
   "metadata": {},
   "outputs": [],
   "source": [
    "\n",
    "texts_preprocessed, summaries_preprocessed = preprocess_data(texts, summaries)"
   ]
  },
  {
   "cell_type": "code",
   "execution_count": 7,
   "id": "b0e682c7",
   "metadata": {},
   "outputs": [
    {
     "data": {
      "text/plain": [
       "92579"
      ]
     },
     "execution_count": 7,
     "metadata": {},
     "output_type": "execute_result"
    }
   ],
   "source": [
    "len(texts_preprocessed)\n",
    "#summaries_preprocessed"
   ]
  },
  {
   "cell_type": "code",
   "execution_count": 8,
   "id": "38cace35",
   "metadata": {},
   "outputs": [],
   "source": [
    "\n",
    "\n",
    "# Create vocabulary\n",
    "vocab = create_vocabulary(texts_preprocessed)  # Define your own vocabulary creation function\n"
   ]
  },
  {
   "cell_type": "code",
   "execution_count": 20,
   "id": "184dc418",
   "metadata": {},
   "outputs": [
    {
     "name": "stdout",
     "output_type": "stream",
     "text": [
      "236890\n"
     ]
    },
    {
     "data": {
      "text/plain": [
       "set"
      ]
     },
     "execution_count": 20,
     "metadata": {},
     "output_type": "execute_result"
    }
   ],
   "source": [
    "print(len(vocab))\n",
    "type(vocab)"
   ]
  },
  {
   "cell_type": "code",
   "execution_count": 10,
   "id": "325f1aca",
   "metadata": {},
   "outputs": [],
   "source": [
    "\n",
    "# Split data\n",
    "train_texts, train_summaries, val_texts, val_summaries, test_texts, test_summaries = split_data(texts_preprocessed, summaries_preprocessed)  # Define your own split_data function\n"
   ]
  },
  {
   "cell_type": "code",
   "execution_count": 22,
   "id": "c8eff9be",
   "metadata": {},
   "outputs": [],
   "source": [
    "vocab_size = 236890\n",
    "embedding_dim = 100\n",
    "\n",
    "# Define input layers\n",
    "encoder_inputs = tf.keras.Input(shape=(None,))\n",
    "decoder_inputs = tf.keras.Input(shape=(None,))\n",
    "\n",
    "# Encoder\n",
    "encoder_embedding = tf.keras.layers.Embedding(vocab_size, embedding_dim)(encoder_inputs)\n",
    "encoder_lstm = tf.keras.layers.LSTM(units=256, return_state=True)(encoder_embedding)\n",
    "encoder_outputs, state_h, state_c = encoder_lstm\n",
    "encoder_states = [state_h, state_c]\n",
    "\n",
    "# Decoder\n",
    "decoder_embedding = tf.keras.layers.Embedding(vocab_size, embedding_dim)(decoder_inputs)\n",
    "decoder_lstm = tf.keras.layers.LSTM(units=256, return_sequences=True, return_state=True)\n",
    "decoder_outputs, _, _ = decoder_lstm(decoder_embedding, initial_state=encoder_states)\n",
    "\n",
    "\n",
    "# Attention\n",
    "attention = tf.keras.layers.Attention()([decoder_outputs, encoder_outputs])\n",
    "\n",
    "# Concatenate attention with decoder output\n",
    "decoder_concat_input = tf.keras.layers.Concatenate()([decoder_outputs, attention])\n",
    "\n",
    "# Generate vocabulary distribution\n",
    "decoder_dense = tf.keras.layers.Dense(units=vocab_size)\n",
    "decoder_outputs = decoder_dense(decoder_concat_input)\n",
    "\n",
    "\n",
    "# Pointer-generator mechanism\n",
    "vocab_dist_pg = tf.keras.layers.Activation('softmax', name='vocab_dist')(decoder_outputs)\n",
    "attn_dist_pg = tf.keras.layers.Activation('softmax', name='attn_dist')(attention)\n",
    "attention_projection = tf.keras.layers.Dense(units=vocab_size)(attention)\n",
    "final_dist = tf.keras.layers.Add()([vocab_dist_pg, attention_projection])\n",
    "\n",
    "\n",
    "# Build the model with the custom layer\n",
    "model = tf.keras.Model([encoder_inputs, decoder_inputs], final_dist)\n",
    "\n"
   ]
  },
  {
   "cell_type": "code",
   "execution_count": 13,
   "id": "0a26e561",
   "metadata": {},
   "outputs": [],
   "source": [
    "# Convert set to dictionary\n",
    "vocab_dict = {word: i for i, word in enumerate(vocab)}\n"
   ]
  },
  {
   "cell_type": "code",
   "execution_count": 14,
   "id": "3a2554da",
   "metadata": {},
   "outputs": [],
   "source": [
    "train_texts_int = [[vocab_dict.get(token, 1) for token in text] for text in train_texts]  # Replace OOV tokens with 1\n",
    "train_summaries_int = [[vocab_dict.get(token, 1) for token in summary] for summary in train_summaries]"
   ]
  },
  {
   "cell_type": "code",
   "execution_count": 23,
   "id": "94636b20",
   "metadata": {},
   "outputs": [],
   "source": [
    "# Define optimizer and loss function\n",
    "optimizer = tf.keras.optimizers.Adam(learning_rate=0.001)  # Example optimizer\n",
    "loss_fn = tf.keras.losses.SparseCategoricalCrossentropy(from_logits=True)  # Example loss\n",
    "model.compile(optimizer=optimizer, loss=loss_fn)"
   ]
  },
  {
   "cell_type": "code",
   "execution_count": 24,
   "id": "246cdd05",
   "metadata": {},
   "outputs": [
    {
     "name": "stdout",
     "output_type": "stream",
     "text": [
      "Model: \"model_1\"\n",
      "__________________________________________________________________________________________________\n",
      " Layer (type)                Output Shape                 Param #   Connected to                  \n",
      "==================================================================================================\n",
      " input_3 (InputLayer)        [(None, None)]               0         []                            \n",
      "                                                                                                  \n",
      " input_4 (InputLayer)        [(None, None)]               0         []                            \n",
      "                                                                                                  \n",
      " embedding_2 (Embedding)     (None, None, 100)            2368900   ['input_3[0][0]']             \n",
      "                                                          0                                       \n",
      "                                                                                                  \n",
      " embedding_3 (Embedding)     (None, None, 100)            2368900   ['input_4[0][0]']             \n",
      "                                                          0                                       \n",
      "                                                                                                  \n",
      " lstm_2 (LSTM)               [(None, 256),                365568    ['embedding_2[0][0]']         \n",
      "                              (None, 256),                                                        \n",
      "                              (None, 256)]                                                        \n",
      "                                                                                                  \n",
      " lstm_3 (LSTM)               [(None, None, 256),          365568    ['embedding_3[0][0]',         \n",
      "                              (None, 256),                           'lstm_2[0][1]',              \n",
      "                              (None, 256)]                           'lstm_2[0][2]']              \n",
      "                                                                                                  \n",
      " attention (Attention)       (None, None, 256)            0         ['lstm_3[0][0]',              \n",
      "                                                                     'lstm_2[0][0]']              \n",
      "                                                                                                  \n",
      " concatenate_1 (Concatenate  (None, None, 512)            0         ['lstm_3[0][0]',              \n",
      " )                                                                   'attention[0][0]']           \n",
      "                                                                                                  \n",
      " dense_2 (Dense)             (None, None, 236890)         1215245   ['concatenate_1[0][0]']       \n",
      "                                                          70                                      \n",
      "                                                                                                  \n",
      " vocab_dist (Activation)     (None, None, 236890)         0         ['dense_2[0][0]']             \n",
      "                                                                                                  \n",
      " dense_3 (Dense)             (None, None, 236890)         6088073   ['attention[0][0]']           \n",
      "                                                          0                                       \n",
      "                                                                                                  \n",
      " add_1 (Add)                 (None, None, 236890)         0         ['vocab_dist[0][0]',          \n",
      "                                                                     'dense_3[0][0]']             \n",
      "                                                                                                  \n",
      "==================================================================================================\n",
      "Total params: 230514436 (879.34 MB)\n",
      "Trainable params: 230514436 (879.34 MB)\n",
      "Non-trainable params: 0 (0.00 Byte)\n",
      "__________________________________________________________________________________________________\n"
     ]
    }
   ],
   "source": [
    "model.summary()"
   ]
  },
  {
   "cell_type": "code",
   "execution_count": null,
   "id": "3e384be4",
   "metadata": {},
   "outputs": [],
   "source": []
  }
 ],
 "metadata": {
  "kernelspec": {
   "display_name": "Python 3 (ipykernel)",
   "language": "python",
   "name": "python3"
  },
  "language_info": {
   "codemirror_mode": {
    "name": "ipython",
    "version": 3
   },
   "file_extension": ".py",
   "mimetype": "text/x-python",
   "name": "python",
   "nbconvert_exporter": "python",
   "pygments_lexer": "ipython3",
   "version": "3.9.13"
  }
 },
 "nbformat": 4,
 "nbformat_minor": 5
}
